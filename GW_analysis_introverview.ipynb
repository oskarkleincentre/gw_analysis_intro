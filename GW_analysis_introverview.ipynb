{
 "cells": [
  {
   "cell_type": "markdown",
   "metadata": {},
   "source": [
    "# Introduction and Overview to Using LIGO/Virgo GW-strain data"
   ]
  },
  {
   "cell_type": "markdown",
   "metadata": {},
   "source": [
    "These imports are more to check that you have the correct packages installed in your environment for use in this tutorial."
   ]
  },
  {
   "cell_type": "code",
   "execution_count": 2,
   "metadata": {},
   "outputs": [],
   "source": [
    "%matplotlib inline\n",
    "import gwpy\n",
    "import gwosc\n",
    "import pycbc\n",
    "import lalinference"
   ]
  },
  {
   "cell_type": "markdown",
   "metadata": {},
   "source": [
    "## Querying for event information\n",
    "\n",
    "The gwosc.datasets module provides tools to search for datasets, including filtering on GPS times.\n",
    "\n",
    "For example, we can search for what event datasets are available:"
   ]
  },
  {
   "cell_type": "code",
   "execution_count": 6,
   "metadata": {},
   "outputs": [
    {
     "name": "stdout",
     "output_type": "stream",
     "text": [
      "['151008', '151012A', '151116', 'GW150914', 'GW151012', 'GW151226']\n"
     ]
    }
   ],
   "source": [
    "from gwosc.datasets import find_datasets\n",
    "events = find_datasets(type=\"event\", detector=\"H1\", segment=(1126051217, 1137254417))\n",
    "print(events)"
   ]
  },
  {
   "cell_type": "markdown",
   "metadata": {},
   "source": [
    "If we want to find the gps times for different science operations we can use the `run_segment` method."
   ]
  },
  {
   "cell_type": "code",
   "execution_count": 7,
   "metadata": {},
   "outputs": [
    {
     "name": "stdout",
     "output_type": "stream",
     "text": [
      "(1126051217, 1137254417)\n"
     ]
    }
   ],
   "source": [
    "from gwosc.datasets import run_segment\n",
    "print(run_segment('O1'))"
   ]
  },
  {
   "cell_type": "markdown",
   "metadata": {},
   "source": [
    "Furthermore to access data from different events that are recorded we can find the urls where to download the data such for the first event."
   ]
  },
  {
   "cell_type": "code",
   "execution_count": 8,
   "metadata": {},
   "outputs": [
    {
     "name": "stdout",
     "output_type": "stream",
     "text": [
      "[u'https://www.gw-osc.org/catalog/GWTC-1-confident/data/GW150914/H-H1_GWOSC_4KHZ_R1-1126259447-32.hdf5', u'https://www.gw-osc.org/catalog/GWTC-1-confident/data/GW150914/L-L1_GWOSC_4KHZ_R1-1126259447-32.hdf5', u'https://www.gw-osc.org/catalog/GWTC-1-confident/data/GW150914/H-H1_GWOSC_4KHZ_R1-1126257415-4096.hdf5', u'https://www.gw-osc.org/catalog/GWTC-1-confident/data/GW150914/L-L1_GWOSC_4KHZ_R1-1126257415-4096.hdf5']\n"
     ]
    }
   ],
   "source": [
    "from gwosc.locate import get_event_urls\n",
    "urls = get_event_urls('GW150914') # detector = , duration = )\n",
    "print(urls)"
   ]
  },
  {
   "cell_type": "markdown",
   "metadata": {},
   "source": [
    "# Basic data querying exercises\n",
    "\n",
    "- How long did O2 last, in human-readable format, i.e. (days, months, years)?\n",
    "- How many events were detected during O1?\n",
    "- What file URL contains data for V1 4096 seconds around GW170817?"
   ]
  },
  {
   "cell_type": "markdown",
   "metadata": {},
   "source": [
    "Now let's see what GW strain data looks like. We will again use the gwosc package to get the data."
   ]
  },
  {
   "cell_type": "code",
   "execution_count": null,
   "metadata": {},
   "outputs": [],
   "source": [
    "from gwosc.datasets import event_gps\n",
    "gps = event_gps('GW170817')\n",
    "print(gps)"
   ]
  },
  {
   "cell_type": "code",
   "execution_count": null,
   "metadata": {},
   "outputs": [],
   "source": [
    "segment = (int(gps)-5, int(gps)+5)\n",
    "print(segment)"
   ]
  },
  {
   "cell_type": "code",
   "execution_count": null,
   "metadata": {},
   "outputs": [],
   "source": [
    "from gwpy.timeseries import TimeSeries\n",
    "hdata = TimeSeries.fetch_open_data('H1', *segment, verbose=True)\n",
    "print(hdata)"
   ]
  },
  {
   "cell_type": "markdown",
   "metadata": {},
   "source": [
    "The TimeSeries class comes with a load of useful methods for doing basic operations with the GW-strain data, particularly plotting."
   ]
  },
  {
   "cell_type": "code",
   "execution_count": null,
   "metadata": {},
   "outputs": [],
   "source": [
    "plot = hdata.plot()"
   ]
  },
  {
   "cell_type": "markdown",
   "metadata": {},
   "source": [
    "# Download and plot data\n",
    "\n",
    "- Using the methods discussed in parts one and two, download the data from the Livingston detector for `GW150914` and plot the strain for a segement of 30 seconds around the merger."
   ]
  },
  {
   "cell_type": "code",
   "execution_count": null,
   "metadata": {},
   "outputs": [],
   "source": []
  },
  {
   "cell_type": "markdown",
   "metadata": {},
   "source": [
    "Now that we have some data, let's use the data from `GW150914` to begin interrogating the properties of the data"
   ]
  },
  {
   "cell_type": "code",
   "execution_count": null,
   "metadata": {},
   "outputs": [],
   "source": [
    "# Set the data form the Livingston detect or ldata\n",
    "ldata = "
   ]
  },
  {
   "cell_type": "markdown",
   "metadata": {},
   "source": [
    "For starters, let's take a basic fft of the data and see what we get."
   ]
  },
  {
   "cell_type": "code",
   "execution_count": null,
   "metadata": {},
   "outputs": [],
   "source": [
    "fft = ldata.fft()\n",
    "print(fft)"
   ]
  },
  {
   "cell_type": "markdown",
   "metadata": {},
   "source": [
    "We see that the above object is no longer an instance of our TimeSeries object that we originally read the data in as. It is now a FrequencySeries object, related, but with different properties and methods."
   ]
  },
  {
   "cell_type": "code",
   "execution_count": null,
   "metadata": {},
   "outputs": [],
   "source": [
    "plot = fft.abs().plot(xscale=\"log\", yscale=\"log\")\n",
    "plot.show()"
   ]
  },
  {
   "cell_type": "markdown",
   "metadata": {},
   "source": [
    "Although this is the amplitude spectral density, it doesn't look terribly much like the typical LIGO/Virgo like sensitivity plots that we see. This is because we need to window and bandpass the data. However, instead of doing all these steps separately, the TimeSeries and Frequency series objects have methods built-in to do this."
   ]
  },
  {
   "cell_type": "code",
   "execution_count": null,
   "metadata": {},
   "outputs": [],
   "source": [
    "asd = ldata.asd(fftlength=4, method=\"median\")\n",
    "plot = asd.plot()\n",
    "ax = plot.gca()\n",
    "ax.set_xlim(10, 1400)\n",
    "ax.set_ylim(2e-24, 1e-20)\n",
    "plot.show()"
   ]
  },
  {
   "cell_type": "markdown",
   "metadata": {},
   "source": [
    "However, with such short data lengths, there is a lot of noise in the ASD. Given a longer set of data, can you plot the ASD around a different event?"
   ]
  },
  {
   "cell_type": "markdown",
   "metadata": {},
   "source": [
    "# ASD Exercise\n",
    "\n",
    "- Obtain data from a different event, let's say `GW170817` and plot the ASD for both the Hanford and Livingston detectors. Get a section of data longer than 120s.\n",
    "\n",
    "The code below will take care of the plotting for you, please fill in teh steps to retrieve the data and perform the ASD."
   ]
  },
  {
   "cell_type": "code",
   "execution_count": null,
   "metadata": {},
   "outputs": [],
   "source": [
    "gps = \n",
    "# get Hanford data\n",
    "hdata2 = \n",
    "hasd2 = \n",
    "# get Livingston data\n",
    "ldata2 = \n",
    "lasd2 = "
   ]
  },
  {
   "cell_type": "code",
   "execution_count": null,
   "metadata": {},
   "outputs": [],
   "source": [
    "plot = hasd2.plot()\n",
    "ax = plot.gca()\n",
    "ax.set_xlim(10, 1400)\n",
    "ax.set_ylim(5e-24, 1e-20)\n",
    "# and plot using standard colours\n",
    "ax.plot(lasd2, label='LIGO-Livingston', color='gwpy:ligo-livingston')\n",
    "# update the Hanford line to use standard colour, and have a label\n",
    "hline = ax.lines[0]\n",
    "hline.set_color('gwpy:ligo-hanford')  # change colour of Hanford data\n",
    "hline.set_label('LIGO-Hanford')\n",
    "\n",
    "ax.set_ylabel(r'Strain noise [$1/\\sqrt{\\mathrm{Hz}}$]')\n",
    "ax.legend()\n",
    "plot.show()"
   ]
  },
  {
   "cell_type": "markdown",
   "metadata": {},
   "source": [
    "Another, very interesting way to interrogate GW data is too look at the famous Q-transform plots which effectively show PSD evolution with time. Using the data we already have let's look at one of these 'spectrograms' which is a more basic form of the Q-plot."
   ]
  },
  {
   "cell_type": "code",
   "execution_count": null,
   "metadata": {},
   "outputs": [],
   "source": [
    "specgram = ldata.spectrogram2(fftlength=4, overlap=2, window='hann') ** (1/2.)\n",
    "plot = specgram.plot()\n",
    "ax = plot.gca()\n",
    "ax.set_yscale('log')\n",
    "ax.set_ylim(10, 1400)\n",
    "ax.colorbar(\n",
    "    clim=(1e-24, 1e-20),\n",
    "    norm=\"log\",\n",
    "    label=r\"Strain noise [$1/\\sqrt{\\mathrm{Hz}}$]\",\n",
    ")\n",
    "plot.show()  # refresh"
   ]
  },
  {
   "cell_type": "markdown",
   "metadata": {},
   "source": [
    "This looks fine, but it doesn't show the nice 'tracks' that became some famous with the first detection `GW150914` and `GW170817`. This requires a Q-transform plot. With getting into the details, a Q-transform plot essentially finds the optimal window size for each time which returns the highest Q value of that PSD. This allows us to pick out the highest power features as they sweep through frequency space while evolving with time."
   ]
  },
  {
   "cell_type": "code",
   "execution_count": null,
   "metadata": {},
   "outputs": [],
   "source": [
    "gps = event_gps('GW170817')\n",
    "segment = (int(gps) - 30, int(gps) + 2)\n",
    "hdata = TimeSeries.fetch_open_data('H1', *segment, verbose=True, cache=True)"
   ]
  },
  {
   "cell_type": "markdown",
   "metadata": {},
   "source": [
    "Thankfully this q-transform is another hand method of the GWpy TimeSeries object, so all we need to do is:"
   ]
  },
  {
   "cell_type": "code",
   "execution_count": null,
   "metadata": {},
   "outputs": [],
   "source": [
    "hq = hdata.q_transform(frange=(30, 500))\n",
    "plot = hq.plot()\n",
    "plot.colorbar(label=\"Normalised energy\")"
   ]
  },
  {
   "cell_type": "markdown",
   "metadata": {},
   "source": [
    "You can almost see a track in the data. However, we can optimze our choice of the range of allowed q to visualize this better."
   ]
  },
  {
   "cell_type": "code",
   "execution_count": null,
   "metadata": {},
   "outputs": [],
   "source": [
    "hq = hdata.q_transform(frange=(30, 500), qrange=(100, 110))\n",
    "plot = hq.plot()\n",
    "ax = plot.gca()\n",
    "ax.set_epoch(gps)\n",
    "ax.set_yscale('log')\n",
    "ax.colorbar(label=\"Normalised energy\")"
   ]
  },
  {
   "cell_type": "markdown",
   "metadata": {},
   "source": [
    "# Q-transform exercise\n",
    "\n",
    "- Can you repeat the above for `GW170817` but for the Livngston detector? What do you see?\n",
    "- Can you modify the tranform or the visualization to better see the inspiral in the data?"
   ]
  },
  {
   "cell_type": "code",
   "execution_count": null,
   "metadata": {},
   "outputs": [],
   "source": []
  }
 ],
 "metadata": {
  "kernelspec": {
   "display_name": "Python 2",
   "language": "python",
   "name": "python2"
  },
  "language_info": {
   "codemirror_mode": {
    "name": "ipython",
    "version": 2
   },
   "file_extension": ".py",
   "mimetype": "text/x-python",
   "name": "python",
   "nbconvert_exporter": "python",
   "pygments_lexer": "ipython2",
   "version": "2.7.15"
  }
 },
 "nbformat": 4,
 "nbformat_minor": 2
}
